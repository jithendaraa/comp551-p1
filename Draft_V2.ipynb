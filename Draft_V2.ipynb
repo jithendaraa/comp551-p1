{
  "nbformat": 4,
  "nbformat_minor": 0,
  "metadata": {
    "interpreter": {
      "hash": "b0b0581b3519f14568f31e2916b59f2d0a9309dc2f5004ca75a3aec84761b849"
    },
    "kernelspec": {
      "display_name": "Python 3",
      "language": "python",
      "name": "python3"
    },
    "language_info": {
      "codemirror_mode": {
        "name": "ipython",
        "version": 3
      },
      "file_extension": ".py",
      "mimetype": "text/x-python",
      "name": "python",
      "nbconvert_exporter": "python",
      "pygments_lexer": "ipython3",
      "version": "3.6.12"
    },
    "toc": {
      "base_numbering": 1,
      "nav_menu": {},
      "number_sections": true,
      "sideBar": true,
      "skip_h1_title": false,
      "title_cell": "Table of Contents",
      "title_sidebar": "Contents",
      "toc_cell": true,
      "toc_position": {},
      "toc_section_display": true,
      "toc_window_display": false
    },
    "varInspector": {
      "cols": {
        "lenName": 16,
        "lenType": 16,
        "lenVar": 40
      },
      "kernels_config": {
        "python": {
          "delete_cmd_postfix": "",
          "delete_cmd_prefix": "del ",
          "library": "var_list.py",
          "varRefreshCmd": "print(var_dic_list())"
        },
        "r": {
          "delete_cmd_postfix": ") ",
          "delete_cmd_prefix": "rm(",
          "library": "var_list.r",
          "varRefreshCmd": "cat(var_dic_list()) "
        }
      },
      "types_to_exclude": [
        "module",
        "function",
        "builtin_function_or_method",
        "instance",
        "_Feature"
      ],
      "window_display": false
    },
    "colab": {
      "name": "Draft_V2.ipynb",
      "provenance": []
    },
    "widgets": {
      "application/vnd.jupyter.widget-state+json": {
        "ec043b8d2c0c4599b99a5ba47c78636c": {
          "model_module": "@jupyter-widgets/controls",
          "model_name": "HBoxModel",
          "model_module_version": "1.5.0",
          "state": {
            "_view_name": "HBoxView",
            "_dom_classes": [],
            "_model_name": "HBoxModel",
            "_view_module": "@jupyter-widgets/controls",
            "_model_module_version": "1.5.0",
            "_view_count": null,
            "_view_module_version": "1.5.0",
            "box_style": "",
            "layout": "IPY_MODEL_4439b577de9340599cbd0da9a9985b91",
            "_model_module": "@jupyter-widgets/controls",
            "children": [
              "IPY_MODEL_8cd29cd42a1d4855ae4855519faccf60",
              "IPY_MODEL_c0793053e7b54e25b273a4169a2e9ee3",
              "IPY_MODEL_3a3fd16133e24e5da481df962d3c7496"
            ]
          }
        },
        "4439b577de9340599cbd0da9a9985b91": {
          "model_module": "@jupyter-widgets/base",
          "model_name": "LayoutModel",
          "model_module_version": "1.2.0",
          "state": {
            "_view_name": "LayoutView",
            "grid_template_rows": null,
            "right": null,
            "justify_content": null,
            "_view_module": "@jupyter-widgets/base",
            "overflow": null,
            "_model_module_version": "1.2.0",
            "_view_count": null,
            "flex_flow": null,
            "width": null,
            "min_width": null,
            "border": null,
            "align_items": null,
            "bottom": null,
            "_model_module": "@jupyter-widgets/base",
            "top": null,
            "grid_column": null,
            "overflow_y": null,
            "overflow_x": null,
            "grid_auto_flow": null,
            "grid_area": null,
            "grid_template_columns": null,
            "flex": null,
            "_model_name": "LayoutModel",
            "justify_items": null,
            "grid_row": null,
            "max_height": null,
            "align_content": null,
            "visibility": null,
            "align_self": null,
            "height": null,
            "min_height": null,
            "padding": null,
            "grid_auto_rows": null,
            "grid_gap": null,
            "max_width": null,
            "order": null,
            "_view_module_version": "1.2.0",
            "grid_template_areas": null,
            "object_position": null,
            "object_fit": null,
            "grid_auto_columns": null,
            "margin": null,
            "display": null,
            "left": null
          }
        },
        "8cd29cd42a1d4855ae4855519faccf60": {
          "model_module": "@jupyter-widgets/controls",
          "model_name": "HTMLModel",
          "model_module_version": "1.5.0",
          "state": {
            "_view_name": "HTMLView",
            "style": "IPY_MODEL_7b0e3d75e7d34f42ad36d872cbcab90a",
            "_dom_classes": [],
            "description": "",
            "_model_name": "HTMLModel",
            "placeholder": "​",
            "_view_module": "@jupyter-widgets/controls",
            "_model_module_version": "1.5.0",
            "value": "100%",
            "_view_count": null,
            "_view_module_version": "1.5.0",
            "description_tooltip": null,
            "_model_module": "@jupyter-widgets/controls",
            "layout": "IPY_MODEL_4f585bffc520442fb22751a0beb04ce3"
          }
        },
        "c0793053e7b54e25b273a4169a2e9ee3": {
          "model_module": "@jupyter-widgets/controls",
          "model_name": "FloatProgressModel",
          "model_module_version": "1.5.0",
          "state": {
            "_view_name": "ProgressView",
            "style": "IPY_MODEL_d01913569a0b430ba12eb9fe520a0edb",
            "_dom_classes": [],
            "description": "",
            "_model_name": "FloatProgressModel",
            "bar_style": "success",
            "max": 5,
            "_view_module": "@jupyter-widgets/controls",
            "_model_module_version": "1.5.0",
            "value": 5,
            "_view_count": null,
            "_view_module_version": "1.5.0",
            "orientation": "horizontal",
            "min": 0,
            "description_tooltip": null,
            "_model_module": "@jupyter-widgets/controls",
            "layout": "IPY_MODEL_795559e94b6e4fd6afed56c27f2ffae7"
          }
        },
        "3a3fd16133e24e5da481df962d3c7496": {
          "model_module": "@jupyter-widgets/controls",
          "model_name": "HTMLModel",
          "model_module_version": "1.5.0",
          "state": {
            "_view_name": "HTMLView",
            "style": "IPY_MODEL_6a4ef840d1d74d8d95c8f4ae16b47abe",
            "_dom_classes": [],
            "description": "",
            "_model_name": "HTMLModel",
            "placeholder": "​",
            "_view_module": "@jupyter-widgets/controls",
            "_model_module_version": "1.5.0",
            "value": " 5/5 [00:05&lt;00:00,  1.37it/s]",
            "_view_count": null,
            "_view_module_version": "1.5.0",
            "description_tooltip": null,
            "_model_module": "@jupyter-widgets/controls",
            "layout": "IPY_MODEL_a0d921239a0a48988eaa3c3cdfa629d3"
          }
        },
        "7b0e3d75e7d34f42ad36d872cbcab90a": {
          "model_module": "@jupyter-widgets/controls",
          "model_name": "DescriptionStyleModel",
          "model_module_version": "1.5.0",
          "state": {
            "_view_name": "StyleView",
            "_model_name": "DescriptionStyleModel",
            "description_width": "",
            "_view_module": "@jupyter-widgets/base",
            "_model_module_version": "1.5.0",
            "_view_count": null,
            "_view_module_version": "1.2.0",
            "_model_module": "@jupyter-widgets/controls"
          }
        },
        "4f585bffc520442fb22751a0beb04ce3": {
          "model_module": "@jupyter-widgets/base",
          "model_name": "LayoutModel",
          "model_module_version": "1.2.0",
          "state": {
            "_view_name": "LayoutView",
            "grid_template_rows": null,
            "right": null,
            "justify_content": null,
            "_view_module": "@jupyter-widgets/base",
            "overflow": null,
            "_model_module_version": "1.2.0",
            "_view_count": null,
            "flex_flow": null,
            "width": null,
            "min_width": null,
            "border": null,
            "align_items": null,
            "bottom": null,
            "_model_module": "@jupyter-widgets/base",
            "top": null,
            "grid_column": null,
            "overflow_y": null,
            "overflow_x": null,
            "grid_auto_flow": null,
            "grid_area": null,
            "grid_template_columns": null,
            "flex": null,
            "_model_name": "LayoutModel",
            "justify_items": null,
            "grid_row": null,
            "max_height": null,
            "align_content": null,
            "visibility": null,
            "align_self": null,
            "height": null,
            "min_height": null,
            "padding": null,
            "grid_auto_rows": null,
            "grid_gap": null,
            "max_width": null,
            "order": null,
            "_view_module_version": "1.2.0",
            "grid_template_areas": null,
            "object_position": null,
            "object_fit": null,
            "grid_auto_columns": null,
            "margin": null,
            "display": null,
            "left": null
          }
        },
        "d01913569a0b430ba12eb9fe520a0edb": {
          "model_module": "@jupyter-widgets/controls",
          "model_name": "ProgressStyleModel",
          "model_module_version": "1.5.0",
          "state": {
            "_view_name": "StyleView",
            "_model_name": "ProgressStyleModel",
            "description_width": "",
            "_view_module": "@jupyter-widgets/base",
            "_model_module_version": "1.5.0",
            "_view_count": null,
            "_view_module_version": "1.2.0",
            "bar_color": null,
            "_model_module": "@jupyter-widgets/controls"
          }
        },
        "795559e94b6e4fd6afed56c27f2ffae7": {
          "model_module": "@jupyter-widgets/base",
          "model_name": "LayoutModel",
          "model_module_version": "1.2.0",
          "state": {
            "_view_name": "LayoutView",
            "grid_template_rows": null,
            "right": null,
            "justify_content": null,
            "_view_module": "@jupyter-widgets/base",
            "overflow": null,
            "_model_module_version": "1.2.0",
            "_view_count": null,
            "flex_flow": null,
            "width": null,
            "min_width": null,
            "border": null,
            "align_items": null,
            "bottom": null,
            "_model_module": "@jupyter-widgets/base",
            "top": null,
            "grid_column": null,
            "overflow_y": null,
            "overflow_x": null,
            "grid_auto_flow": null,
            "grid_area": null,
            "grid_template_columns": null,
            "flex": null,
            "_model_name": "LayoutModel",
            "justify_items": null,
            "grid_row": null,
            "max_height": null,
            "align_content": null,
            "visibility": null,
            "align_self": null,
            "height": null,
            "min_height": null,
            "padding": null,
            "grid_auto_rows": null,
            "grid_gap": null,
            "max_width": null,
            "order": null,
            "_view_module_version": "1.2.0",
            "grid_template_areas": null,
            "object_position": null,
            "object_fit": null,
            "grid_auto_columns": null,
            "margin": null,
            "display": null,
            "left": null
          }
        },
        "6a4ef840d1d74d8d95c8f4ae16b47abe": {
          "model_module": "@jupyter-widgets/controls",
          "model_name": "DescriptionStyleModel",
          "model_module_version": "1.5.0",
          "state": {
            "_view_name": "StyleView",
            "_model_name": "DescriptionStyleModel",
            "description_width": "",
            "_view_module": "@jupyter-widgets/base",
            "_model_module_version": "1.5.0",
            "_view_count": null,
            "_view_module_version": "1.2.0",
            "_model_module": "@jupyter-widgets/controls"
          }
        },
        "a0d921239a0a48988eaa3c3cdfa629d3": {
          "model_module": "@jupyter-widgets/base",
          "model_name": "LayoutModel",
          "model_module_version": "1.2.0",
          "state": {
            "_view_name": "LayoutView",
            "grid_template_rows": null,
            "right": null,
            "justify_content": null,
            "_view_module": "@jupyter-widgets/base",
            "overflow": null,
            "_model_module_version": "1.2.0",
            "_view_count": null,
            "flex_flow": null,
            "width": null,
            "min_width": null,
            "border": null,
            "align_items": null,
            "bottom": null,
            "_model_module": "@jupyter-widgets/base",
            "top": null,
            "grid_column": null,
            "overflow_y": null,
            "overflow_x": null,
            "grid_auto_flow": null,
            "grid_area": null,
            "grid_template_columns": null,
            "flex": null,
            "_model_name": "LayoutModel",
            "justify_items": null,
            "grid_row": null,
            "max_height": null,
            "align_content": null,
            "visibility": null,
            "align_self": null,
            "height": null,
            "min_height": null,
            "padding": null,
            "grid_auto_rows": null,
            "grid_gap": null,
            "max_width": null,
            "order": null,
            "_view_module_version": "1.2.0",
            "grid_template_areas": null,
            "object_position": null,
            "object_fit": null,
            "grid_auto_columns": null,
            "margin": null,
            "display": null,
            "left": null
          }
        }
      }
    }
  },
  "cells": [
    {
      "cell_type": "markdown",
      "metadata": {
        "toc": true,
        "id": "xkezNL8WmHcm"
      },
      "source": [
        "<h1>Table of Contents<span class=\"tocSkip\"></span></h1>\n",
        "<div class=\"toc\"><ul class=\"toc-item\"><li><ul class=\"toc-item\"><li><span><a href=\"#Preprocessing\" data-toc-modified-id=\"Preprocessing-0.1\"><span class=\"toc-item-num\">0.1&nbsp;&nbsp;</span>Preprocessing</a></span></li><li><span><a href=\"#Experiments\" data-toc-modified-id=\"Experiments-0.2\"><span class=\"toc-item-num\">0.2&nbsp;&nbsp;</span>Experiments</a></span></li><li><span><a href=\"#Deliverables\" data-toc-modified-id=\"Deliverables-0.3\"><span class=\"toc-item-num\">0.3&nbsp;&nbsp;</span>Deliverables</a></span></li></ul></li><li><span><a href=\"#Code\" data-toc-modified-id=\"Code-1\"><span class=\"toc-item-num\">1&nbsp;&nbsp;</span>Code</a></span><ul class=\"toc-item\"><li><ul class=\"toc-item\"><li><span><a href=\"#Replace-with-Mode\" data-toc-modified-id=\"Replace-with-Mode-1.0.1\"><span class=\"toc-item-num\">1.0.1&nbsp;&nbsp;</span>Replace with Mode</a></span></li></ul></li><li><span><a href=\"#Remove-'-?'-in-workclass,-occupation,-native-country\" data-toc-modified-id=\"Remove-'-?'-in-workclass,-occupation,-native-country-1.1\"><span class=\"toc-item-num\">1.1&nbsp;&nbsp;</span>Remove ' ?' in workclass, occupation, native-country</a></span></li><li><span><a href=\"#Convert-Discrete-to-OneHot\" data-toc-modified-id=\"Convert-Discrete-to-OneHot-1.2\"><span class=\"toc-item-num\">1.2&nbsp;&nbsp;</span>Convert Discrete to OneHot</a></span></li><li><span><a href=\"#KNN-Classifiers\" data-toc-modified-id=\"KNN-Classifiers-1.3\"><span class=\"toc-item-num\">1.3&nbsp;&nbsp;</span>KNN Classifiers</a></span></li><li><span><a href=\"#DecisionTreeClassifier\" data-toc-modified-id=\"DecisionTreeClassifier-1.4\"><span class=\"toc-item-num\">1.4&nbsp;&nbsp;</span>DecisionTreeClassifier</a></span></li></ul></li></ul></div>"
      ]
    },
    {
      "cell_type": "markdown",
      "metadata": {
        "id": "Tc9lnbmLmHcq"
      },
      "source": [
        "## Preprocessing\n",
        "Your first task is to acquire the data, analyze it, and clean it (if necessary).  You will use two datasets in this project,outlined below.\n",
        "• Dataset 1 (Adult dataset): This dataset presents several attributes of different individuals and the predictiontask is to determine whether someone makes over 50K a year.  Download and read information about the datasethere."
      ]
    },
    {
      "cell_type": "markdown",
      "metadata": {
        "id": "_D8TxZQWmHcr"
      },
      "source": [
        "The essential subtasks for this part of the project include:\n",
        "\n",
        "1.  Download the datasets.Hints: For clarity, in the Adult dataset, adult.data contains the training/validation dataand adult.test contains the test data.\n",
        "2.  Load the datasets into Pandas dataframes or NumPy objects (i.e., arrays or matrices) in Python.\n",
        "3.  Clean the data.  You should remove instances that have too many missing or invalid data entries.\n",
        "4.  Convert discrete variables into multiple variables using one-hot encoding.  For an example on how to do this,check out ”Encoding categorical features” in the scikit-learn documentation."
      ]
    },
    {
      "cell_type": "markdown",
      "metadata": {
        "id": "yd98FShqmHcs"
      },
      "source": [
        "## Experiments\n",
        "In this part, you will compare two supervised learning frameworks, namelyK-nearest neighbours(KNN) anddecisiontrees,  to predict whether the income of an adult exceeds $50K/yr.  A similar analysis should be performed for thesecond dataset.  The specific subtasks for this part include:\n",
        "1.  Implement and perform 5-fold cross validation on the training/validation data (for theAdultdataset, this datais contained in theadult.datafile) to optimize hyperparameters for both models.Your implementation forcross-validation should be from scratch.  You should not use existing packages for cross validation.Report the mean of the training and validation metrics for the given hyperparameters.\n",
        "2.  Sample growing subsets of the training/validation data and repeat step 1.  We want to understand how the sizeof a dataset impacts both the training and validation error.\n",
        "3.  Take the best performing model (the one with the best performance on 5-fold cross validation) and apply it onthe test set (in theAdultdataset, this is theadult.testfile).  This is an unbiased estimate of how your modelwould perform on new/unseen data.\n",
        "4.  [Optional] Go above and beyond!  Examples:  different normalization techniques or other ways of handling of missing data (search “data imputation” techniques).  Employ more sophisticated techniques for hyper-parameter search.  Engineering new features out of existing ones to get a better performance.  Investigate which featuresare the most useful (e.g., by correlating them with your predictions or removing them from your data)?\n",
        "5.  Analyze your findings; how did the choice of the various hyper-parameters impact generalization?  How aboutthe size of training data?  If any of these findings do not agree with your expectation, you can form hypothesesand further investigate them.\n",
        "\n",
        "## Deliverables\n",
        "You must submit two separate files to MyCourses(using the exact filenames and file types outlined below):\n",
        "\n",
        "1. code.zip:  Your  entire  code,  which  should  consist  of  a  jupyter  notebook  file  (.ipynb),  and  additional  pythonfiles (.py);the notebook should contain the main body of your code, where we can see and easily reproduce the plots in your report.\n",
        "2. writeup.pdf:  Your (max three pages) project write-up as a pdf (details below)."
      ]
    },
    {
      "cell_type": "markdown",
      "metadata": {
        "id": "zEL0ZBFYmHcu"
      },
      "source": [
        "# Code"
      ]
    },
    {
      "cell_type": "markdown",
      "metadata": {
        "id": "j00riGjlmHcu"
      },
      "source": [
        "1. Download the datasets.Hints: For clarity, in the Adult dataset, adult.data contains the training/validation data and adult.test contains the test data."
      ]
    },
    {
      "cell_type": "code",
      "metadata": {
        "ExecuteTime": {
          "end_time": "2021-09-27T16:26:06.701732Z",
          "start_time": "2021-09-27T16:26:04.880374Z"
        },
        "id": "bUPyCiN0mHcv"
      },
      "source": [
        "#from utils import *\n",
        "from sklearn.model_selection import train_test_split\n",
        "import time\n",
        "import os\n",
        "import pandas as pd\n",
        "import numpy as np\n",
        "from sklearn.svm import SVC\n",
        "import matplotlib.pyplot as plt\n",
        "import seaborn as sns\n",
        "from sklearn.model_selection import train_test_split\n",
        "from sklearn.metrics import confusion_matrix\n",
        "from sklearn import metrics\n",
        "from sklearn.preprocessing import MinMaxScaler\n",
        "from random import randrange\n",
        "from random import seed\n",
        "seed(1)\n",
        "# Vars\n",
        "data_rootdir = 'Adult dataset'\n",
        "remove_dup = True"
      ],
      "execution_count": null,
      "outputs": []
    },
    {
      "cell_type": "code",
      "metadata": {
        "ExecuteTime": {
          "end_time": "2021-09-27T16:26:06.777719Z",
          "start_time": "2021-09-27T16:26:06.709400Z"
        },
        "id": "dTur2epmmHcw"
      },
      "source": [
        "# TODO Put in .py\n",
        "\n",
        "rootdir = 'Adult dataset'\n",
        "\n",
        "adult_names = [\"age\",\n",
        "\"workclass\",\n",
        "\"fnlwgt\",\n",
        "\"education\",\n",
        "\"education-num\",\n",
        "\"marital-status\",\n",
        "\"occupation\",\n",
        "\"relationship\",\n",
        "\"race\",\n",
        "\"sex\",\n",
        "\"capital-gain\",\n",
        "\"capital-loss\",\n",
        "\"hours-per-week\",\n",
        "\"native-country\"]\n",
        "\n",
        "def load_adult(rootdir=rootdir, split='train'):\n",
        "    csv_name = 'adult.data' if split == 'train' else 'adult.test'\n",
        "    csv_path = os.path.join(rootdir, csv_name)\n",
        "    assert os.path.exists(csv_path)\n",
        "    adult_data = pd.read_csv(csv_path, names=adult_names + ['salary'], index_col=False)\n",
        "    return adult_data\n",
        "\n",
        "def get_faulty_col_names(df):\n",
        "    faulty_cols = []\n",
        "    \n",
        "#     Check NA values\n",
        "    for col_name in df.columns.tolist():\n",
        "        if df[col_name].isna().values.any() is True:\n",
        "            faulty_cols.append(col_name)\n",
        "\n",
        "#     Check for ' ?'\n",
        "        if ' ?' in df[col_name].unique().tolist():\n",
        "            if col_name not in faulty_cols:\n",
        "                faulty_cols.append(col_name)\n",
        "            print(f\"Number of ' ?' in {col_name}: {df[col_name].value_counts()[' ?']}\")\n",
        "    \n",
        "    return faulty_cols\n",
        "\n",
        "def replace_with_mode(df, faulty_cols):\n",
        "    \n",
        "    df_without_QM = df.copy()\n",
        "    for col in faulty_cols:\n",
        "        df_without_QM = df_without_QM[getattr(df, col) != ' ?']\n",
        "    \n",
        "    r_df = df.copy()\n",
        "    mapping = {}\n",
        "    for col in faulty_cols:\n",
        "        mapping[col] = df_without_QM[col].mode().values[0]\n",
        "        r_df[col] = r_df[col].replace(' ?', mapping[col])\n",
        "    return r_df, mapping\n",
        "\n",
        "def replace_with_mapping(df, faulty_cols, mapping):\n",
        "    r_df = df.copy()\n",
        "    for col in faulty_cols:\n",
        "        r_df[col] = r_df[col].replace(' ?', mapping[col])\n",
        "    return r_df\n",
        "\n",
        "def get_binary_labels_for_salary(df):\n",
        "    if isinstance(df, pd.Series):\n",
        "        df = df.to_frame()\n",
        "    assert isinstance(df, pd.DataFrame)\n",
        "    salary_map = {' <=50K': 0, ' <=50K.': 0, ' >50K': 1, ' >50K.': 1}\n",
        "    df['salary'] = df['salary'].map(salary_map)\n",
        "    \n",
        "    return df['salary'].tolist()\n",
        "\n",
        "def generate_cross_validation(n_folds, X, y):\n",
        "    samples = len(X)\n",
        "    elements_in_fold = samples // n_folds\n",
        "    indices = [0]\n",
        "    while indices[-1] + elements_in_fold <= samples - samples % n_folds:\n",
        "        indices.append(indices[-1] + elements_in_fold)\n",
        "    indices[-1] = samples\n",
        "    cross_val_sets = [[indices[i], indices[i+1]] for i in range(len(indices)-1)]\n",
        "    for val_set in cross_val_sets:\n",
        "        begin, end = val_set[0], val_set[1]\n",
        "        train_X_fold = X[0:begin].append(X[end:])\n",
        "        validation_X_fold = X[begin:end]\n",
        "        train_y_fold = y[0:begin] + y[end:]\n",
        "        validation_y_fold = y[begin:end]\n",
        "        yield train_X_fold, train_y_fold, validation_X_fold, validation_y_fold\n",
        "\n",
        "def knn_fit(X_train, y_train, X_val, y_val, one_hot, knn=3):\n",
        "    neigh = KNeighborsClassifier(n_neighbors=knn)\n",
        "    neigh.fit(one_hot.transform(X_train), y_train)\n",
        "    pred_y = neigh.predict(OH_enc.transform(X_val))\n",
        "    acc = get_accuracy(y_val, pred_y)\n",
        "    return neigh, acc\n",
        "\n",
        "def eval_classifier(X, y, one_hot, classifier):\n",
        "    pred_y = classifier.predict(one_hot.transform(X))\n",
        "    acc = get_accuracy(y, pred_y)\n",
        "    return acc\n",
        "\n",
        "def fit_classifier(X_train, y_train, X_val, y_val, one_hot, classifier_model, **kwargs):\n",
        "    classifier = classifier_model(**kwargs)\n",
        "    classifier.fit(one_hot.transform(X_train), y_train)\n",
        "    acc = eval_classifier(X_val, y_val, one_hot, classifier)\n",
        "    return classifier, acc\n",
        "\n",
        "def get_accuracy(y_label, y_pred):\n",
        "    assert len(y_label) == len(y_pred)\n",
        "    acc = 100 * sum(y_label == y_pred) / len(y_label)\n",
        "    return acc"
      ],
      "execution_count": null,
      "outputs": []
    },
    {
      "cell_type": "markdown",
      "metadata": {
        "id": "QP5ChHMTmHcy"
      },
      "source": [
        "2. Load the datasets into Pandas dataframes or NumPy objects (i.e., arrays or matrices) in Python."
      ]
    },
    {
      "cell_type": "code",
      "metadata": {
        "ExecuteTime": {
          "end_time": "2021-09-27T16:26:07.332674Z",
          "start_time": "2021-09-27T16:26:06.784458Z"
        },
        "id": "CArCNVKEmHcy",
        "outputId": "6495cce6-51eb-4eb9-b1a6-0c9483dc784e"
      },
      "source": [
        "df = load_adult(data_rootdir)\n",
        "\n",
        "if remove_dup is True:\n",
        "    df = df.drop_duplicates()\n",
        "\n",
        "# Get faulty columns in the df - ones with na values or ' :?' values\n",
        "faulty_cols = get_faulty_col_names(df)\n",
        "print(faulty_cols)\n",
        "df.head()"
      ],
      "execution_count": null,
      "outputs": [
        {
          "name": "stdout",
          "output_type": "stream",
          "text": [
            "Number of ' ?' in workclass: 1836\n",
            "Number of ' ?' in occupation: 1843\n",
            "Number of ' ?' in native-country: 582\n",
            "['workclass', 'occupation', 'native-country']\n"
          ]
        },
        {
          "data": {
            "text/html": [
              "<div>\n",
              "<style scoped>\n",
              "    .dataframe tbody tr th:only-of-type {\n",
              "        vertical-align: middle;\n",
              "    }\n",
              "\n",
              "    .dataframe tbody tr th {\n",
              "        vertical-align: top;\n",
              "    }\n",
              "\n",
              "    .dataframe thead th {\n",
              "        text-align: right;\n",
              "    }\n",
              "</style>\n",
              "<table border=\"1\" class=\"dataframe\">\n",
              "  <thead>\n",
              "    <tr style=\"text-align: right;\">\n",
              "      <th></th>\n",
              "      <th>age</th>\n",
              "      <th>workclass</th>\n",
              "      <th>fnlwgt</th>\n",
              "      <th>education</th>\n",
              "      <th>education-num</th>\n",
              "      <th>marital-status</th>\n",
              "      <th>occupation</th>\n",
              "      <th>relationship</th>\n",
              "      <th>race</th>\n",
              "      <th>sex</th>\n",
              "      <th>capital-gain</th>\n",
              "      <th>capital-loss</th>\n",
              "      <th>hours-per-week</th>\n",
              "      <th>native-country</th>\n",
              "      <th>salary</th>\n",
              "    </tr>\n",
              "  </thead>\n",
              "  <tbody>\n",
              "    <tr>\n",
              "      <th>0</th>\n",
              "      <td>39</td>\n",
              "      <td>State-gov</td>\n",
              "      <td>77516</td>\n",
              "      <td>Bachelors</td>\n",
              "      <td>13</td>\n",
              "      <td>Never-married</td>\n",
              "      <td>Adm-clerical</td>\n",
              "      <td>Not-in-family</td>\n",
              "      <td>White</td>\n",
              "      <td>Male</td>\n",
              "      <td>2174</td>\n",
              "      <td>0</td>\n",
              "      <td>40</td>\n",
              "      <td>United-States</td>\n",
              "      <td>&lt;=50K</td>\n",
              "    </tr>\n",
              "    <tr>\n",
              "      <th>1</th>\n",
              "      <td>50</td>\n",
              "      <td>Self-emp-not-inc</td>\n",
              "      <td>83311</td>\n",
              "      <td>Bachelors</td>\n",
              "      <td>13</td>\n",
              "      <td>Married-civ-spouse</td>\n",
              "      <td>Exec-managerial</td>\n",
              "      <td>Husband</td>\n",
              "      <td>White</td>\n",
              "      <td>Male</td>\n",
              "      <td>0</td>\n",
              "      <td>0</td>\n",
              "      <td>13</td>\n",
              "      <td>United-States</td>\n",
              "      <td>&lt;=50K</td>\n",
              "    </tr>\n",
              "    <tr>\n",
              "      <th>2</th>\n",
              "      <td>38</td>\n",
              "      <td>Private</td>\n",
              "      <td>215646</td>\n",
              "      <td>HS-grad</td>\n",
              "      <td>9</td>\n",
              "      <td>Divorced</td>\n",
              "      <td>Handlers-cleaners</td>\n",
              "      <td>Not-in-family</td>\n",
              "      <td>White</td>\n",
              "      <td>Male</td>\n",
              "      <td>0</td>\n",
              "      <td>0</td>\n",
              "      <td>40</td>\n",
              "      <td>United-States</td>\n",
              "      <td>&lt;=50K</td>\n",
              "    </tr>\n",
              "    <tr>\n",
              "      <th>3</th>\n",
              "      <td>53</td>\n",
              "      <td>Private</td>\n",
              "      <td>234721</td>\n",
              "      <td>11th</td>\n",
              "      <td>7</td>\n",
              "      <td>Married-civ-spouse</td>\n",
              "      <td>Handlers-cleaners</td>\n",
              "      <td>Husband</td>\n",
              "      <td>Black</td>\n",
              "      <td>Male</td>\n",
              "      <td>0</td>\n",
              "      <td>0</td>\n",
              "      <td>40</td>\n",
              "      <td>United-States</td>\n",
              "      <td>&lt;=50K</td>\n",
              "    </tr>\n",
              "    <tr>\n",
              "      <th>4</th>\n",
              "      <td>28</td>\n",
              "      <td>Private</td>\n",
              "      <td>338409</td>\n",
              "      <td>Bachelors</td>\n",
              "      <td>13</td>\n",
              "      <td>Married-civ-spouse</td>\n",
              "      <td>Prof-specialty</td>\n",
              "      <td>Wife</td>\n",
              "      <td>Black</td>\n",
              "      <td>Female</td>\n",
              "      <td>0</td>\n",
              "      <td>0</td>\n",
              "      <td>40</td>\n",
              "      <td>Cuba</td>\n",
              "      <td>&lt;=50K</td>\n",
              "    </tr>\n",
              "  </tbody>\n",
              "</table>\n",
              "</div>"
            ],
            "text/plain": [
              "   age          workclass  fnlwgt   education  education-num  \\\n",
              "0   39          State-gov   77516   Bachelors             13   \n",
              "1   50   Self-emp-not-inc   83311   Bachelors             13   \n",
              "2   38            Private  215646     HS-grad              9   \n",
              "3   53            Private  234721        11th              7   \n",
              "4   28            Private  338409   Bachelors             13   \n",
              "\n",
              "        marital-status          occupation    relationship    race      sex  \\\n",
              "0        Never-married        Adm-clerical   Not-in-family   White     Male   \n",
              "1   Married-civ-spouse     Exec-managerial         Husband   White     Male   \n",
              "2             Divorced   Handlers-cleaners   Not-in-family   White     Male   \n",
              "3   Married-civ-spouse   Handlers-cleaners         Husband   Black     Male   \n",
              "4   Married-civ-spouse      Prof-specialty            Wife   Black   Female   \n",
              "\n",
              "   capital-gain  capital-loss  hours-per-week  native-country  salary  \n",
              "0          2174             0              40   United-States   <=50K  \n",
              "1             0             0              13   United-States   <=50K  \n",
              "2             0             0              40   United-States   <=50K  \n",
              "3             0             0              40   United-States   <=50K  \n",
              "4             0             0              40            Cuba   <=50K  "
            ]
          },
          "execution_count": 3,
          "metadata": {},
          "output_type": "execute_result"
        }
      ]
    },
    {
      "cell_type": "markdown",
      "metadata": {
        "id": "ZOPx6l_1mHcz"
      },
      "source": [
        "Faulty columns can be: \n",
        "1. Replaced with mode\n",
        "2. KNN imputed\n",
        "3. Retained"
      ]
    },
    {
      "cell_type": "markdown",
      "metadata": {
        "id": "CF2osV1mmHcz"
      },
      "source": [
        "### Replace with Mode"
      ]
    },
    {
      "cell_type": "code",
      "metadata": {
        "ExecuteTime": {
          "end_time": "2021-09-27T16:26:07.575421Z",
          "start_time": "2021-09-27T16:26:07.338046Z"
        },
        "id": "0T5tecvymHc0",
        "outputId": "914437db-df29-4dc3-df86-e3ba7cad51ad"
      },
      "source": [
        "clean_train_df, faulty_col_modes = replace_with_mode(df, faulty_cols)\n",
        "assert get_faulty_col_names(clean_train_df) == []"
      ],
      "execution_count": null,
      "outputs": [
        {
          "name": "stderr",
          "output_type": "stream",
          "text": [
            "c:\\users\\asus\\anaconda3\\envs\\dreamerv2\\lib\\site-packages\\ipykernel_launcher.py:50: UserWarning: Boolean Series key will be reindexed to match DataFrame index.\n"
          ]
        }
      ]
    },
    {
      "cell_type": "code",
      "metadata": {
        "ExecuteTime": {
          "end_time": "2021-09-27T16:26:07.798163Z",
          "start_time": "2021-09-27T16:26:07.580069Z"
        },
        "id": "2uxff8rimHc0",
        "outputId": "a3419fe9-054b-4bfd-b1f6-05e150725f5c"
      },
      "source": [
        "df_without_QM = df.copy()\n",
        "for col in faulty_cols:\n",
        "    df_without_QM = df_without_QM[getattr(df, col) != ' ?']\n",
        "\n",
        "mapping = {}\n",
        "for col in faulty_cols:\n",
        "    mapping[col] = df_without_QM[col].mode().values[0]\n",
        "\n",
        "clean_train_df = replace_with_mapping(df, faulty_cols, mapping)\n",
        "assert get_faulty_col_names(clean_train_df) == []\n",
        "print(len(clean_train_df))"
      ],
      "execution_count": null,
      "outputs": [
        {
          "name": "stderr",
          "output_type": "stream",
          "text": [
            "c:\\users\\asus\\anaconda3\\envs\\dreamerv2\\lib\\site-packages\\ipykernel_launcher.py:3: UserWarning: Boolean Series key will be reindexed to match DataFrame index.\n",
            "  This is separate from the ipykernel package so we can avoid doing imports until\n"
          ]
        },
        {
          "name": "stdout",
          "output_type": "stream",
          "text": [
            "32537\n"
          ]
        }
      ]
    },
    {
      "cell_type": "markdown",
      "metadata": {
        "id": "nQn5_YlDmHc0"
      },
      "source": [
        "## Remove ' ?' in workclass, occupation, native-country"
      ]
    },
    {
      "cell_type": "code",
      "metadata": {
        "ExecuteTime": {
          "end_time": "2021-09-27T16:26:07.806488Z",
          "start_time": "2021-09-27T16:26:07.802577Z"
        },
        "id": "NN3TCc0nmHc1"
      },
      "source": [
        "# df = adult_data\n",
        "# print(len(df))\n",
        "# for col_name in col_names_with_nan:\n",
        "#     df = df[getattr(df, col_name) != ' ?']\n",
        "# print(len(df))"
      ],
      "execution_count": null,
      "outputs": []
    },
    {
      "cell_type": "code",
      "metadata": {
        "ExecuteTime": {
          "end_time": "2021-09-27T16:26:07.833040Z",
          "start_time": "2021-09-27T16:26:07.816848Z"
        },
        "id": "Up2Jtk_rmHc1"
      },
      "source": [
        "# df.hist(figsize=(16, 16), bins=100)"
      ],
      "execution_count": null,
      "outputs": []
    },
    {
      "cell_type": "code",
      "metadata": {
        "ExecuteTime": {
          "end_time": "2021-09-27T16:26:07.847906Z",
          "start_time": "2021-09-27T16:26:07.842245Z"
        },
        "id": "vio5hHlRmHc1"
      },
      "source": [
        "# df['native-country'].value_counts().index\n",
        "# # df['native-country'].unique()"
      ],
      "execution_count": null,
      "outputs": []
    },
    {
      "cell_type": "code",
      "metadata": {
        "ExecuteTime": {
          "end_time": "2021-09-27T16:26:07.860843Z",
          "start_time": "2021-09-27T16:26:07.855007Z"
        },
        "id": "x0kqNWrumHc2"
      },
      "source": [
        "# cat_cols = adult_data.select_dtypes(include=['object']).columns.tolist()\n",
        "# n = len(cat_cols)\n",
        "# ncols = 3\n",
        "# nrows = (n // ncols + 1) if n % ncols != 0 else (n // ncols)\n",
        "# plt.figure(figsize=(16 * nrows, 8 * ncols))\n",
        "# for idx, col in enumerate(cat_cols):\n",
        "# #     print(idx)\n",
        "# #     print(cat_cols)\n",
        "#     plt.subplot(nrows, ncols, idx  + 1)\n",
        "#     plt.grid()\n",
        "#     plt.bar(adult_data[col].value_counts().index, adult_data[col].value_counts().values)\n",
        "#     plt.title(col)\n",
        "# plt.tight_layout()\n",
        "# plt.show()"
      ],
      "execution_count": null,
      "outputs": []
    },
    {
      "cell_type": "code",
      "metadata": {
        "ExecuteTime": {
          "end_time": "2021-09-27T16:26:07.875708Z",
          "start_time": "2021-09-27T16:26:07.868305Z"
        },
        "id": "cUPatDXPmHc2"
      },
      "source": [
        "# cat_cols = df.select_dtypes(include=['object']).columns.tolist()\n",
        "# n = len(cat_cols)\n",
        "# ncols = 4\n",
        "# plt.figure(figsize=(16 * n // ncols, 4 * ncols))\n",
        "# for idx, col in enumerate(cat_cols):\n",
        "#     plt.subplot(n // ncols, ncols, idx  + 1)\n",
        "#     plt.bar( df[col].value_counts().index, df[col].value_counts().values)\n",
        "#     plt.title(col)\n",
        "#     plt.grid()\n",
        "#     # if idx >= 3: break\n",
        "# plt.tight_layout()\n",
        "# plt.show()"
      ],
      "execution_count": null,
      "outputs": []
    },
    {
      "cell_type": "markdown",
      "metadata": {
        "id": "y9cR4FhsmHc2"
      },
      "source": [
        "## Convert Discrete to OneHot"
      ]
    },
    {
      "cell_type": "code",
      "metadata": {
        "ExecuteTime": {
          "end_time": "2021-09-27T16:26:07.920338Z",
          "start_time": "2021-09-27T16:26:07.883005Z"
        },
        "id": "t03vqxEhmHc3"
      },
      "source": [
        "X_train, y_train = clean_train_df.drop('salary', axis=1), get_binary_labels_for_salary(clean_train_df['salary'])"
      ],
      "execution_count": null,
      "outputs": []
    },
    {
      "cell_type": "code",
      "metadata": {
        "ExecuteTime": {
          "end_time": "2021-09-27T16:26:07.948230Z",
          "start_time": "2021-09-27T16:26:07.926596Z"
        },
        "id": "9pHnfbRkmHc3",
        "outputId": "669323f9-29c4-442b-9ea9-c1173dab1408"
      },
      "source": [
        "# Get categorical variables\n",
        "cat_cols = X_train.select_dtypes(include=['object']).columns.tolist()\n",
        "print(\"Discrete Variables: \", cat_cols)"
      ],
      "execution_count": null,
      "outputs": [
        {
          "name": "stdout",
          "output_type": "stream",
          "text": [
            "Discrete Variables:  ['workclass', 'education', 'marital-status', 'occupation', 'relationship', 'race', 'sex', 'native-country']\n"
          ]
        }
      ]
    },
    {
      "cell_type": "code",
      "metadata": {
        "ExecuteTime": {
          "end_time": "2021-09-27T16:26:11.687949Z",
          "start_time": "2021-09-27T16:26:07.956145Z"
        },
        "colab": {
          "base_uri": "https://localhost:8080/"
        },
        "id": "Dr72ght4mHc3",
        "outputId": "31fd74f6-4253-4ed6-8357-ce0ce9dfdb20"
      },
      "source": [
        "from sklearn.preprocessing import OneHotEncoder\n",
        "OH_enc = OneHotEncoder(handle_unknown='ignore')\n",
        "OH_enc.fit(X_train)"
      ],
      "execution_count": null,
      "outputs": [
        {
          "output_type": "execute_result",
          "data": {
            "text/plain": [
              "OneHotEncoder(categories='auto', drop=None, dtype=<class 'numpy.float64'>,\n",
              "              handle_unknown='ignore', sparse=True)"
            ]
          },
          "metadata": {},
          "execution_count": 22
        }
      ]
    },
    {
      "cell_type": "code",
      "metadata": {
        "ExecuteTime": {
          "end_time": "2021-09-27T16:26:12.609200Z",
          "start_time": "2021-09-27T16:26:11.693762Z"
        },
        "id": "RAWCK5C_mHc4",
        "outputId": "617c8b01-af52-4ecd-9689-bd18414d46b6"
      },
      "source": [
        "test_df = load_adult(data_rootdir, 'test')\n",
        "print(\"Before cleaning: \", len(test_df))\n",
        "faulty_test_cols = get_faulty_col_names(test_df)\n",
        "print(\"Columns to clean\", faulty_test_cols)\n",
        "\n",
        "clean_test_df = replace_with_mapping(test_df, faulty_test_cols, mapping)\n",
        "assert get_faulty_col_names(clean_test_df) == []\n",
        "print(\"After cleaning: \", len(clean_test_df))"
      ],
      "execution_count": null,
      "outputs": [
        {
          "name": "stdout",
          "output_type": "stream",
          "text": [
            "Before cleaning:  16281\n",
            "Number of ' ?' in workclass: 963\n",
            "Number of ' ?' in occupation: 966\n",
            "Number of ' ?' in native-country: 274\n",
            "Columns to clean ['workclass', 'occupation', 'native-country']\n",
            "After cleaning:  16281\n"
          ]
        }
      ]
    },
    {
      "cell_type": "code",
      "metadata": {
        "ExecuteTime": {
          "end_time": "2021-09-27T16:26:12.637872Z",
          "start_time": "2021-09-27T16:26:12.614091Z"
        },
        "id": "d2S8FQccmHc4"
      },
      "source": [
        "X_test, y_test = clean_test_df.drop('salary', axis=1), get_binary_labels_for_salary(clean_test_df['salary'])"
      ],
      "execution_count": null,
      "outputs": []
    },
    {
      "cell_type": "markdown",
      "metadata": {
        "id": "PGsxolTimHc4"
      },
      "source": [
        "## KNN Classifiers"
      ]
    },
    {
      "cell_type": "markdown",
      "metadata": {
        "id": "aIrQ-4PvmHc4"
      },
      "source": [
        "Hyperparameters\n",
        "- `n_neighbors` : [2:10:2]\n",
        "- `p`: [1:2:1]"
      ]
    },
    {
      "cell_type": "code",
      "metadata": {
        "ExecuteTime": {
          "start_time": "2021-09-27T16:26:04.955Z"
        },
        "id": "RwGF4l0vmHc5"
      },
      "source": [
        "from sklearn.neighbors import KNeighborsClassifier\n",
        "n_neighbors=3\n",
        "knn_kw = {\n",
        "    'n_neighbors': n_neighbors,\n",
        "}\n",
        "neigh = KNeighborsClassifier(**knn_kw)\n",
        "neigh.fit(OH_enc.transform(X_train), y_train)\n",
        "\n",
        "print(\"Train Accuracy: \", eval_classifier(X_train, y_train, OH_enc, neigh))\n",
        "print(\"Test Accuracy: \", eval_classifier(X_test, y_test, OH_enc, neigh))"
      ],
      "execution_count": null,
      "outputs": []
    },
    {
      "cell_type": "code",
      "metadata": {
        "ExecuteTime": {
          "start_time": "2021-09-27T16:26:04.962Z"
        },
        "id": "-dKpdOI4mHc5"
      },
      "source": [
        "from tqdm.auto import tqdm\n",
        "n_folds = 5\n",
        "models = []\n",
        "accs = []\n",
        "for batch in tqdm(generate_cross_validation(n_folds, X_train, y_train), total=n_folds):\n",
        "    cross_X_train, cross_y_train, cross_X_val, cross_y_val = batch\n",
        "    model, acc = fit_classifier(cross_X_train, cross_y_train, cross_X_val, cross_y_val, OH_enc, KNeighborsClassifier, **knn_kw)\n",
        "    models.append(model)\n",
        "    accs.append(acc)\n",
        "\n",
        "print(accs)\n",
        "print(f\"Model accuracy averaged across {n_folds} folds: {np.mean(accs)}\")"
      ],
      "execution_count": null,
      "outputs": []
    },
    {
      "cell_type": "markdown",
      "metadata": {
        "id": "tDsLoKyomHc5"
      },
      "source": [
        "## DecisionTreeClassifier"
      ]
    },
    {
      "cell_type": "markdown",
      "metadata": {
        "id": "_OTZONPimHc5"
      },
      "source": [
        "Hyperparameters\n",
        "- `criterion`: ['gini', 'entropy']\n",
        "- `max_depth`: [5:20:5]\n",
        "- `min_samples_split`: [2:6:2]"
      ]
    },
    {
      "cell_type": "code",
      "metadata": {
        "ExecuteTime": {
          "start_time": "2021-09-27T16:26:04.972Z"
        },
        "id": "OyqPgF4bmHc6"
      },
      "source": [
        "from sklearn.tree import DecisionTreeClassifier\n",
        "criterion='entropy'\n",
        "max_depth=10\n",
        "dt_kw = {\n",
        "    'criterion': criterion,\n",
        "    'max_depth': max_depth,\n",
        "}\n",
        "classifier = DecisionTreeClassifier(**dt_kw)\n",
        "classifier.fit(OH_enc.transform(X_train), y_train)\n",
        "\n",
        "print(\"Train Accuracy: \", eval_classifier(X_train, y_train, OH_enc, classifier))\n",
        "print(\"Test Accuracy: \", eval_classifier(X_test, y_test, OH_enc, classifier))"
      ],
      "execution_count": null,
      "outputs": []
    },
    {
      "cell_type": "code",
      "metadata": {
        "ExecuteTime": {
          "start_time": "2021-09-27T16:26:04.978Z"
        },
        "id": "sgaLX1LxmHc6"
      },
      "source": [
        "from tqdm.auto import tqdm\n",
        "n_folds = 5\n",
        "models = []\n",
        "accs = []\n",
        "for batch in tqdm(generate_cross_validation(n_folds, X_train, y_train), total=n_folds):\n",
        "    cross_X_train, cross_y_train, cross_X_val, cross_y_val = batch\n",
        "    model, acc = fit_classifier(cross_X_train, cross_y_train, cross_X_val, cross_y_val, OH_enc, DecisionTreeClassifier, **dt_kw)\n",
        "    models.append(model)\n",
        "    accs.append(acc)\n",
        "\n",
        "print(accs)\n",
        "print(f\"Model accuracy averaged across {n_folds} folds: {np.mean(accs)}\")"
      ],
      "execution_count": null,
      "outputs": []
    },
    {
      "cell_type": "markdown",
      "metadata": {
        "id": "QKWLP4nQnxms"
      },
      "source": [
        "## Helper functions"
      ]
    },
    {
      "cell_type": "code",
      "metadata": {
        "id": "N6r2tObnlGzP"
      },
      "source": [
        "\n",
        "\n",
        "rootdir = 'occupancy_dataset'\n",
        "\n",
        "\n",
        "def load_occupancy(rootdir=rootdir, split='train'):\n",
        "    csv_name = 'datatraining.txt' if split == 'train' else 'datatest.txt'\n",
        "    csv_path = os.path.join(rootdir, csv_name)\n",
        "    assert os.path.exists(csv_path)\n",
        "    occupancy_data= pd.read_csv(csv_path)\n",
        "    return occupancy_data\n",
        "\n",
        "\n",
        "\n",
        "def convert_to_timestamp(x):\n",
        "    \"\"\"Convert date objects to integers\"\"\"\n",
        "    return time.mktime(x.timetuple())\n",
        "\n",
        "\n",
        "def normalize(df):\n",
        "    \"\"\"Normalize the DF using min/max\"\"\"\n",
        "    scaler = MinMaxScaler(feature_range=(-1, 1))\n",
        "    dates_scaled = scaler.fit_transform(df[['date']])\n",
        "\n",
        "    return dates_scaled\n",
        "\n",
        "def splitter(dataset, folds):\n",
        "        dataset_split = []\n",
        "        df_copy = dataset\n",
        "        fold_size = int(df_copy.shape[0] / folds)\n",
        "        for i in range(folds):\n",
        "            fold = []\n",
        "            while len(fold) < fold_size:\n",
        "                r = randrange(df_copy.shape[0])\n",
        "                index = df_copy.index[r]\n",
        "                fold.append(df_copy.loc[index].values.tolist())\n",
        "                df_copy = df_copy.drop(index)\n",
        "            dataset_split.append(np.asarray(fold))   \n",
        "        return dataset_split \n",
        "\n",
        "\n",
        "def kfold(X, n_folds):\n",
        "\n",
        "    X = splitter(X, n_folds)\n",
        "    for i in range(n_folds):\n",
        "        data = []\n",
        "        for j in range(n_folds):\n",
        "            if j==i:\n",
        "                continue\n",
        "            data.append(np.asarray(X[j]))\n",
        "\n",
        "        data = np.asarray(data)\n",
        "        data = data.reshape(data.shape[0]*data.shape[1],data.shape[2])\n",
        "        df_train = pd.DataFrame(data, columns = occupancy_data.columns.values)\n",
        "        df_val= pd.DataFrame(X[i], columns = occupancy_data.columns.values)\n",
        "\n",
        "        label = df_train.columns[-1]\n",
        "\n",
        "        F_X_train = df_train.drop(label, axis = 1)\n",
        "        F_y_train = df_train[label]\n",
        "        F_X_val = df_val.drop(label, axis = 1)\n",
        "        F_y_val = df_val[label]\n",
        "\n",
        "        yield F_X_train, F_y_train, F_X_val, F_y_val\n",
        "\n",
        "\n",
        " \n"
      ],
      "execution_count": null,
      "outputs": []
    },
    {
      "cell_type": "code",
      "metadata": {
        "id": "FHiu_ZOo6hBL"
      },
      "source": [
        "#Load train and test set\n",
        "occupancy_data = load_occupancy(rootdir, 'train')\n",
        "occupancy_data_test = load_occupancy(rootdir, 'test')"
      ],
      "execution_count": null,
      "outputs": []
    },
    {
      "cell_type": "markdown",
      "metadata": {
        "id": "CmW2roHhoHAE"
      },
      "source": [
        "##Data Preparation and Feature Engineering"
      ]
    },
    {
      "cell_type": "code",
      "metadata": {
        "colab": {
          "base_uri": "https://localhost:8080/",
          "height": 419
        },
        "id": "h562mOE1I09t",
        "outputId": "e738ff97-dc52-4879-ce71-fc209619588d"
      },
      "source": [
        "#Feature scaling for trainig set\n",
        "\n",
        "occupancy_data.round({\"Temperature\":2, \"Humidity\":2, \"Light\":2, \"CO2\":2, \"HumidityRatio\":6})\n",
        "\n",
        "#Feature scaling for testing set\n",
        "\n",
        "occupancy_data_test.round({\"Temperature\":2, \"Humidity\":2, \"Light\":2, \"CO2\":2, \"HumidityRatio\":6})"
      ],
      "execution_count": null,
      "outputs": [
        {
          "output_type": "execute_result",
          "data": {
            "text/html": [
              "<div>\n",
              "<style scoped>\n",
              "    .dataframe tbody tr th:only-of-type {\n",
              "        vertical-align: middle;\n",
              "    }\n",
              "\n",
              "    .dataframe tbody tr th {\n",
              "        vertical-align: top;\n",
              "    }\n",
              "\n",
              "    .dataframe thead th {\n",
              "        text-align: right;\n",
              "    }\n",
              "</style>\n",
              "<table border=\"1\" class=\"dataframe\">\n",
              "  <thead>\n",
              "    <tr style=\"text-align: right;\">\n",
              "      <th></th>\n",
              "      <th>date</th>\n",
              "      <th>Temperature</th>\n",
              "      <th>Humidity</th>\n",
              "      <th>Light</th>\n",
              "      <th>CO2</th>\n",
              "      <th>HumidityRatio</th>\n",
              "      <th>Occupancy</th>\n",
              "    </tr>\n",
              "  </thead>\n",
              "  <tbody>\n",
              "    <tr>\n",
              "      <th>140</th>\n",
              "      <td>2015-02-02 14:19:00</td>\n",
              "      <td>23.70</td>\n",
              "      <td>26.27</td>\n",
              "      <td>585.20</td>\n",
              "      <td>749.20</td>\n",
              "      <td>0.004764</td>\n",
              "      <td>1</td>\n",
              "    </tr>\n",
              "    <tr>\n",
              "      <th>141</th>\n",
              "      <td>2015-02-02 14:19:59</td>\n",
              "      <td>23.72</td>\n",
              "      <td>26.29</td>\n",
              "      <td>578.40</td>\n",
              "      <td>760.40</td>\n",
              "      <td>0.004773</td>\n",
              "      <td>1</td>\n",
              "    </tr>\n",
              "    <tr>\n",
              "      <th>142</th>\n",
              "      <td>2015-02-02 14:21:00</td>\n",
              "      <td>23.73</td>\n",
              "      <td>26.23</td>\n",
              "      <td>572.67</td>\n",
              "      <td>769.67</td>\n",
              "      <td>0.004765</td>\n",
              "      <td>1</td>\n",
              "    </tr>\n",
              "    <tr>\n",
              "      <th>143</th>\n",
              "      <td>2015-02-02 14:22:00</td>\n",
              "      <td>23.72</td>\n",
              "      <td>26.12</td>\n",
              "      <td>493.75</td>\n",
              "      <td>774.75</td>\n",
              "      <td>0.004744</td>\n",
              "      <td>1</td>\n",
              "    </tr>\n",
              "    <tr>\n",
              "      <th>144</th>\n",
              "      <td>2015-02-02 14:23:00</td>\n",
              "      <td>23.75</td>\n",
              "      <td>26.20</td>\n",
              "      <td>488.60</td>\n",
              "      <td>779.00</td>\n",
              "      <td>0.004767</td>\n",
              "      <td>1</td>\n",
              "    </tr>\n",
              "    <tr>\n",
              "      <th>...</th>\n",
              "      <td>...</td>\n",
              "      <td>...</td>\n",
              "      <td>...</td>\n",
              "      <td>...</td>\n",
              "      <td>...</td>\n",
              "      <td>...</td>\n",
              "      <td>...</td>\n",
              "    </tr>\n",
              "    <tr>\n",
              "      <th>2800</th>\n",
              "      <td>2015-02-04 10:38:59</td>\n",
              "      <td>24.29</td>\n",
              "      <td>25.70</td>\n",
              "      <td>808.00</td>\n",
              "      <td>1150.25</td>\n",
              "      <td>0.004829</td>\n",
              "      <td>1</td>\n",
              "    </tr>\n",
              "    <tr>\n",
              "      <th>2801</th>\n",
              "      <td>2015-02-04 10:40:00</td>\n",
              "      <td>24.33</td>\n",
              "      <td>25.74</td>\n",
              "      <td>809.80</td>\n",
              "      <td>1129.20</td>\n",
              "      <td>0.004848</td>\n",
              "      <td>1</td>\n",
              "    </tr>\n",
              "    <tr>\n",
              "      <th>2802</th>\n",
              "      <td>2015-02-04 10:40:59</td>\n",
              "      <td>24.33</td>\n",
              "      <td>25.70</td>\n",
              "      <td>817.00</td>\n",
              "      <td>1125.80</td>\n",
              "      <td>0.004841</td>\n",
              "      <td>1</td>\n",
              "    </tr>\n",
              "    <tr>\n",
              "      <th>2803</th>\n",
              "      <td>2015-02-04 10:41:59</td>\n",
              "      <td>24.36</td>\n",
              "      <td>25.70</td>\n",
              "      <td>813.00</td>\n",
              "      <td>1123.00</td>\n",
              "      <td>0.004849</td>\n",
              "      <td>1</td>\n",
              "    </tr>\n",
              "    <tr>\n",
              "      <th>2804</th>\n",
              "      <td>2015-02-04 10:43:00</td>\n",
              "      <td>24.41</td>\n",
              "      <td>25.68</td>\n",
              "      <td>798.00</td>\n",
              "      <td>1124.00</td>\n",
              "      <td>0.004860</td>\n",
              "      <td>1</td>\n",
              "    </tr>\n",
              "  </tbody>\n",
              "</table>\n",
              "<p>2665 rows × 7 columns</p>\n",
              "</div>"
            ],
            "text/plain": [
              "                     date  Temperature  ...  HumidityRatio  Occupancy\n",
              "140   2015-02-02 14:19:00        23.70  ...       0.004764          1\n",
              "141   2015-02-02 14:19:59        23.72  ...       0.004773          1\n",
              "142   2015-02-02 14:21:00        23.73  ...       0.004765          1\n",
              "143   2015-02-02 14:22:00        23.72  ...       0.004744          1\n",
              "144   2015-02-02 14:23:00        23.75  ...       0.004767          1\n",
              "...                   ...          ...  ...            ...        ...\n",
              "2800  2015-02-04 10:38:59        24.29  ...       0.004829          1\n",
              "2801  2015-02-04 10:40:00        24.33  ...       0.004848          1\n",
              "2802  2015-02-04 10:40:59        24.33  ...       0.004841          1\n",
              "2803  2015-02-04 10:41:59        24.36  ...       0.004849          1\n",
              "2804  2015-02-04 10:43:00        24.41  ...       0.004860          1\n",
              "\n",
              "[2665 rows x 7 columns]"
            ]
          },
          "metadata": {},
          "execution_count": 17
        }
      ]
    },
    {
      "cell_type": "code",
      "metadata": {
        "colab": {
          "base_uri": "https://localhost:8080/"
        },
        "id": "nCtibXLBqJo8",
        "outputId": "043605d1-b97f-4c48-c871-3536d2c582c7"
      },
      "source": [
        "#Check missing values for train\n",
        "\n",
        "occupancy_data.info()"
      ],
      "execution_count": null,
      "outputs": [
        {
          "output_type": "stream",
          "name": "stdout",
          "text": [
            "<class 'pandas.core.frame.DataFrame'>\n",
            "Int64Index: 8143 entries, 1 to 8143\n",
            "Data columns (total 7 columns):\n",
            " #   Column         Non-Null Count  Dtype  \n",
            "---  ------         --------------  -----  \n",
            " 0   date           8143 non-null   object \n",
            " 1   Temperature    8143 non-null   float64\n",
            " 2   Humidity       8143 non-null   float64\n",
            " 3   Light          8143 non-null   float64\n",
            " 4   CO2            8143 non-null   float64\n",
            " 5   HumidityRatio  8143 non-null   float64\n",
            " 6   Occupancy      8143 non-null   int64  \n",
            "dtypes: float64(5), int64(1), object(1)\n",
            "memory usage: 508.9+ KB\n"
          ]
        }
      ]
    },
    {
      "cell_type": "code",
      "metadata": {
        "colab": {
          "base_uri": "https://localhost:8080/"
        },
        "id": "YYvt7_cW5itQ",
        "outputId": "ed6985a4-e525-43c0-9d27-76611f49b26e"
      },
      "source": [
        "#Check missing values for test\n",
        "\n",
        "occupancy_data_test.info()"
      ],
      "execution_count": null,
      "outputs": [
        {
          "output_type": "stream",
          "name": "stdout",
          "text": [
            "<class 'pandas.core.frame.DataFrame'>\n",
            "Int64Index: 2665 entries, 140 to 2804\n",
            "Data columns (total 7 columns):\n",
            " #   Column         Non-Null Count  Dtype  \n",
            "---  ------         --------------  -----  \n",
            " 0   date           2665 non-null   object \n",
            " 1   Temperature    2665 non-null   float64\n",
            " 2   Humidity       2665 non-null   float64\n",
            " 3   Light          2665 non-null   float64\n",
            " 4   CO2            2665 non-null   float64\n",
            " 5   HumidityRatio  2665 non-null   float64\n",
            " 6   Occupancy      2665 non-null   int64  \n",
            "dtypes: float64(5), int64(1), object(1)\n",
            "memory usage: 166.6+ KB\n"
          ]
        }
      ]
    },
    {
      "cell_type": "code",
      "metadata": {
        "colab": {
          "base_uri": "https://localhost:8080/"
        },
        "id": "CkJmxonzpI6H",
        "outputId": "0adfb457-3e3d-4699-ffaf-5b5a9068b6d5"
      },
      "source": [
        "# 0 for not occupied, 1 for occupied status\n",
        "zeros = occupancy_data['Occupancy'].isin([0]).sum()\n",
        "ones = occupancy_data['Occupancy'].isin([1]).sum()\n",
        "print(\"Train:\")\n",
        "print(zeros, \"not occupied\")\n",
        "print(ones, \"occupied\")"
      ],
      "execution_count": null,
      "outputs": [
        {
          "output_type": "stream",
          "name": "stdout",
          "text": [
            "Train:\n",
            "6414 not occupied\n",
            "1729 occupied\n"
          ]
        }
      ]
    },
    {
      "cell_type": "code",
      "metadata": {
        "colab": {
          "base_uri": "https://localhost:8080/"
        },
        "id": "_mKEpaK05xAp",
        "outputId": "0512d4f4-689a-4662-814a-66fb2e22c2a2"
      },
      "source": [
        "# 0 for not occupied, 1 for occupied status\n",
        "zeros = occupancy_data_test['Occupancy'].isin([0]).sum()\n",
        "ones = occupancy_data_test['Occupancy'].isin([1]).sum()\n",
        "print(\"Test:\")\n",
        "print(zeros, \"not occupied\")\n",
        "print(ones, \"occupied\")"
      ],
      "execution_count": null,
      "outputs": [
        {
          "output_type": "stream",
          "name": "stdout",
          "text": [
            "Test:\n",
            "1693 not occupied\n",
            "972 occupied\n"
          ]
        }
      ]
    },
    {
      "cell_type": "code",
      "metadata": {
        "id": "2sPTZQUcqojc"
      },
      "source": [
        "# Extract training samples and labels\n",
        "\n",
        "X_train = occupancy_data.drop(\"Occupancy\", axis = 1)\n",
        "y_train = occupancy_data['Occupancy']\n",
        "X_test = occupancy_data_test.drop(\"Occupancy\", axis = 1)\n",
        "y_test = occupancy_data_test['Occupancy']"
      ],
      "execution_count": null,
      "outputs": []
    },
    {
      "cell_type": "code",
      "metadata": {
        "id": "hfHbp83ysRWw"
      },
      "source": [
        "#Normalize the date feature of the training set\n",
        "X_train['date'] = pd.to_datetime(X_train['date'])\n",
        "X_train['date'] = X_train['date'].apply(convert_to_timestamp)\n",
        "X_train['date']= normalize(X_train)"
      ],
      "execution_count": null,
      "outputs": []
    },
    {
      "cell_type": "code",
      "metadata": {
        "id": "yOCKR8-Hr7ac"
      },
      "source": [
        "#Normalize the date feature of the training set\n",
        "X_test['date'] = pd.to_datetime(X_test['date'])\n",
        "X_test['date'] = X_test['date'].apply(convert_to_timestamp)\n",
        "X_test['date'] = normalize(X_test)"
      ],
      "execution_count": null,
      "outputs": []
    },
    {
      "cell_type": "markdown",
      "metadata": {
        "id": "fo8PBd-krErC"
      },
      "source": [
        "### KNN"
      ]
    },
    {
      "cell_type": "code",
      "metadata": {
        "colab": {
          "base_uri": "https://localhost:8080/"
        },
        "id": "xctINTteuSxM",
        "outputId": "265b01a4-d83f-49a3-9ac7-752b7751d9b1"
      },
      "source": [
        "from sklearn.neighbors import KNeighborsClassifier\n",
        "n_neighbors=2\n",
        "knn_kw = {\n",
        "    'n_neighbors': n_neighbors,\n",
        "}\n",
        "neigh = KNeighborsClassifier(**knn_kw)\n",
        "neigh.fit(OH_enc.transform(X_train), y_train)\n",
        "\n",
        "print(\"Train Accuracy: \", eval_classifier(X_train, y_train, OH_enc, neigh))\n",
        "print(\"Test Accuracy: \", eval_classifier(X_test, y_test, OH_enc, neigh))"
      ],
      "execution_count": null,
      "outputs": [
        {
          "output_type": "stream",
          "name": "stdout",
          "text": [
            "Train Accuracy:  97.49478079331942\n",
            "Test Accuracy:  85.36585365853658\n"
          ]
        }
      ]
    },
    {
      "cell_type": "code",
      "metadata": {
        "id": "EVr2pvBLrUdE"
      },
      "source": [
        "from tqdm.auto import tqdm\n",
        "n_folds = 5\n",
        "n_neighbors=2\n",
        "knn_kw = {\n",
        "    'n_neighbors': n_neighbors,\n",
        "}\n",
        "models = []\n",
        "accs = []\n",
        "for batch in tqdm(kfold(occupancy_data, n_folds),total=n_folds):\n",
        "    cross_X_train, cross_y_train, cross_X_val, cross_y_val = batch\n",
        "    model, acc = fit_classifier(cross_X_train, cross_y_train, cross_X_val, cross_y_val, OH_enc, KNeighborsClassifier, **knn_kw)\n",
        "    models.append(model)\n",
        "    accs.append(acc)\n",
        "\n",
        "print(accs)\n",
        "print(f\"Model accuracy averaged across {n_folds} folds: {np.mean(accs)}\")"
      ],
      "execution_count": null,
      "outputs": []
    },
    {
      "cell_type": "markdown",
      "metadata": {
        "id": "kBmkvAcGrIEx"
      },
      "source": [
        "### Decision Trees"
      ]
    },
    {
      "cell_type": "code",
      "metadata": {
        "colab": {
          "base_uri": "https://localhost:8080/"
        },
        "id": "5zEOaxGE4i5n",
        "outputId": "1421ddf8-4388-4b24-85f8-fde258b057e0"
      },
      "source": [
        "from sklearn.tree import DecisionTreeClassifier\n",
        "criterion='entropy'\n",
        "max_depth=10\n",
        "dt_kw = {\n",
        "    'criterion': criterion,\n",
        "    'max_depth': max_depth,\n",
        "}\n",
        "classifier = DecisionTreeClassifier(**dt_kw)\n",
        "classifier.fit(OH_enc.transform(X_train), y_train)\n",
        "\n",
        "print(\"Train Accuracy: \", eval_classifier(X_train, y_train, OH_enc, classifier))\n",
        "print(\"Test Accuracy: \", eval_classifier(X_test, y_test, OH_enc, classifier))"
      ],
      "execution_count": null,
      "outputs": [
        {
          "output_type": "stream",
          "name": "stdout",
          "text": [
            "Train Accuracy:  89.27913545376397\n",
            "Test Accuracy:  73.73358348968105\n"
          ]
        }
      ]
    },
    {
      "cell_type": "code",
      "metadata": {
        "colab": {
          "base_uri": "https://localhost:8080/",
          "height": 83,
          "referenced_widgets": [
            "ec043b8d2c0c4599b99a5ba47c78636c",
            "4439b577de9340599cbd0da9a9985b91",
            "8cd29cd42a1d4855ae4855519faccf60",
            "c0793053e7b54e25b273a4169a2e9ee3",
            "3a3fd16133e24e5da481df962d3c7496",
            "7b0e3d75e7d34f42ad36d872cbcab90a",
            "4f585bffc520442fb22751a0beb04ce3",
            "d01913569a0b430ba12eb9fe520a0edb",
            "795559e94b6e4fd6afed56c27f2ffae7",
            "6a4ef840d1d74d8d95c8f4ae16b47abe",
            "a0d921239a0a48988eaa3c3cdfa629d3"
          ]
        },
        "id": "dc-MUKYJnOhL",
        "outputId": "3f4d7d2f-263f-4463-81b1-f289b51c8a46"
      },
      "source": [
        "n_folds = 5\n",
        "models = []\n",
        "accs = []\n",
        "for batch in tqdm(kfold(occupancy_data, n_folds),total=n_folds):\n",
        "    cross_X_train, cross_y_train, cross_X_val, cross_y_val = batch\n",
        "    model, acc = fit_classifier(cross_X_train, cross_y_train, cross_X_val, cross_y_val, OH_enc, DecisionTreeClassifier, **dt_kw)\n",
        "    models.append(model)\n",
        "    accs.append(acc)\n",
        "\n",
        "print(accs)\n",
        "print(f\"Model accuracy averaged across {n_folds} folds: {np.mean(accs)}\")"
      ],
      "execution_count": null,
      "outputs": [
        {
          "output_type": "display_data",
          "data": {
            "application/vnd.jupyter.widget-view+json": {
              "model_id": "ec043b8d2c0c4599b99a5ba47c78636c",
              "version_minor": 0,
              "version_major": 2
            },
            "text/plain": [
              "  0%|          | 0/5 [00:00<?, ?it/s]"
            ]
          },
          "metadata": {}
        },
        {
          "output_type": "stream",
          "name": "stdout",
          "text": [
            "[78.00982800982801, 78.37837837837837, 78.43980343980344, 78.93120393120392, 80.15970515970515]\n",
            "Model accuracy averaged across 5 folds: 78.78378378378378\n"
          ]
        }
      ]
    },
    {
      "cell_type": "code",
      "metadata": {
        "id": "Tm0mdZLOsjJl"
      },
      "source": [
        ""
      ],
      "execution_count": null,
      "outputs": []
    }
  ]
}